{
  "nbformat": 4,
  "nbformat_minor": 0,
  "metadata": {
    "colab": {
      "provenance": [],
      "authorship_tag": "ABX9TyP9tZIR6Ro5sAQJ0uzO/AkX",
      "include_colab_link": true
    },
    "kernelspec": {
      "name": "python3",
      "display_name": "Python 3"
    },
    "language_info": {
      "name": "python"
    }
  },
  "cells": [
    {
      "cell_type": "markdown",
      "metadata": {
        "id": "view-in-github",
        "colab_type": "text"
      },
      "source": [
        "<a href=\"https://colab.research.google.com/github/DmitryTurlai/Stepik_HomeWorks/blob/main/Tests_task.ipynb\" target=\"_parent\"><img src=\"https://colab.research.google.com/assets/colab-badge.svg\" alt=\"Open In Colab\"/></a>"
      ]
    },
    {
      "cell_type": "code",
      "execution_count": null,
      "metadata": {
        "id": "UdbS5G4BbXMD"
      },
      "outputs": [],
      "source": []
    },
    {
      "cell_type": "code",
      "source": [
        "from datetime import datetime\n",
        "\n",
        "data = {'Дима': ('03.11.2021 09:31:18', '03.11.2021 11:41:28'),\n",
        "        'Геор': ('01.11.2021 09:03:04', '01.11.2021 12:40:35'),\n",
        "        'Анна': ('02.11.2021 04:41:54', '02.11.2021 05:39:40'),\n",
        "        'Илина': ('02.11.2021 01:36:40', '02.11.2021 04:48:27'),\n",
        "        'Герман': ('04.11.2021 07:51:19', '04.11.2021 09:53:53'),\n",
        "        'Руслан': ('01.11.2021 11:26:06', '01.11.2021 12:56:24'),\n",
        "        'Лера': ('03.11.2021 11:09:41', '03.11.2021 14:37:41'),\n",
        "        'Егор': ('03.11.2021 05:29:38', '03.11.2021 06:01:59'),\n",
        "        'Максим': ('05.11.2021 13:05:03', '05.11.2021 14:27:41'),\n",
        "        'Саша': ('03.11.2021 04:14:26', '03.11.2021 05:10:58'),\n",
        "        'Марина': ('05.11.2021 15:21:06', '05.11.2021 18:33:46')}\n",
        "res = {}\n",
        "\n",
        "for key in data:\n",
        "  time_string1 = (data[key][0].split(' '))[1]\n",
        "  time_string2 = (data[key][1].split(' '))[1]\n",
        "  time1 = datetime.strptime(time_string1, '%H:%M:%S').time()\n",
        "  time2 = datetime.strptime(time_string2, '%H:%M:%S').time()\n",
        "  delta = datetime.combine(datetime.today(), time2) - datetime.combine(datetime.today(), time1)\n",
        "  res[key] = delta\n",
        "#  print(res[key])\n",
        "sorted_by_values = dict(sorted(res.items(), key=lambda item: item[1]))\n",
        "print(next(iter(sorted_by_values)))\n",
        "#print(int(datetime(data['Дима'][1])) - int(datetime(data['Дима'][0])))"
      ],
      "metadata": {
        "colab": {
          "base_uri": "https://localhost:8080/"
        },
        "id": "-qTOL1FQbZ6K",
        "outputId": "75b89b5f-09a8-45f6-f0d9-83532f478f87"
      },
      "execution_count": null,
      "outputs": [
        {
          "output_type": "stream",
          "name": "stdout",
          "text": [
            "2:10:10\n",
            "3:37:31\n",
            "0:57:46\n",
            "3:11:47\n",
            "2:02:34\n",
            "1:30:18\n",
            "3:28:00\n",
            "0:32:21\n",
            "1:22:38\n",
            "0:56:32\n",
            "3:12:40\n",
            "Егор\n"
          ]
        }
      ]
    },
    {
      "cell_type": "code",
      "source": [
        "from datetime import datetime, timedelta\n",
        "s = '05.11.2021-12.11.2021'\n",
        "res = []\n",
        "try:\n",
        "  start_str, end_str = s.split('-')\n",
        "  start_date = datetime.strptime(start_str, '%d.%m.%Y').date()\n",
        "  end_date = datetime.strptime(end_str, '%d.%m.%Y').date()\n",
        "except ValueError:\n",
        "  start_date=end_date=datetime.strptime(s, '%d.%m.%Y').date()\n",
        "\n",
        "if start_date == end_date:\n",
        "  res.append(start_date)\n",
        "else:\n",
        "  dt = start_date\n",
        "  while dt <= end_date:\n",
        "    res.append(dt)\n",
        "    dt += timedelta(days=1)\n",
        "\n",
        "print(res)\n",
        "\n"
      ],
      "metadata": {
        "colab": {
          "base_uri": "https://localhost:8080/"
        },
        "id": "T8beMeywYI1I",
        "outputId": "afaaba80-92af-4f0c-e155-5d0d9be9e8e6"
      },
      "execution_count": null,
      "outputs": [
        {
          "output_type": "stream",
          "name": "stdout",
          "text": [
            "[datetime.date(2021, 11, 5), datetime.date(2021, 11, 6), datetime.date(2021, 11, 7), datetime.date(2021, 11, 8), datetime.date(2021, 11, 9), datetime.date(2021, 11, 10), datetime.date(2021, 11, 11), datetime.date(2021, 11, 12)]\n"
          ]
        }
      ]
    },
    {
      "cell_type": "code",
      "source": [
        "from datetime import date, timedelta, datetime\n",
        "\n",
        "total_time = datetime.strptime(input(), '%H:%M:%S')\n",
        "second = total_time.hour * 3600 + total_time.minute * 60 + total_time.second\n",
        "\n",
        "print(second)\n"
      ],
      "metadata": {
        "colab": {
          "base_uri": "https://localhost:8080/"
        },
        "id": "GPQOEJlosLVg",
        "outputId": "d39c91df-193b-40bc-f3cb-80850ca04519"
      },
      "execution_count": null,
      "outputs": [
        {
          "output_type": "stream",
          "name": "stdout",
          "text": [
            "2:30:20\n",
            "9020\n"
          ]
        }
      ]
    },
    {
      "cell_type": "code",
      "source": [
        "from datetime import datetime\n",
        "\n",
        "date = datetime.strptime(input(), '%d.%m.%Y %H:%M')\n",
        "day_of_week = date.weekday()\n",
        "time = date.time()\n",
        "rasp={\n",
        "    0: '9:00 - 21:00',\n",
        "    1: '9:00 - 21:00',\n",
        "    2: '9:00 - 21:00',\n",
        "    3: '9:00 - 21:00',\n",
        "    4: '9:00 - 21:00',\n",
        "    5: '10:00 - 18:00',\n",
        "    6: '10:00 - 18:00'\n",
        "}\n",
        "\n",
        "start_time_str, end_time_str = rasp[day_of_week].split(' - ')\n",
        "\n",
        "start_time = datetime.strptime(start_time_str, '%H:%M').time()\n",
        "end_time = datetime.strptime(end_time_str, '%H:%M').time()\n",
        "\n",
        "if start_time <= time <= end_time:\n",
        "    delta = (end_time.hour * 60 + end_time.minute) - (time.hour * 60 + time.minute)\n",
        "    print(delta)\n",
        "else:\n",
        "    print('Магазин не работает')\n",
        "\n"
      ],
      "metadata": {
        "colab": {
          "base_uri": "https://localhost:8080/"
        },
        "id": "S0Ye-WH1cdNf",
        "outputId": "c1a6ecc8-c5cc-4235-ea52-feb8e2a2bb83"
      },
      "execution_count": null,
      "outputs": [
        {
          "output_type": "stream",
          "name": "stdout",
          "text": [
            "05.11.2021 21:00\n",
            "0\n"
          ]
        }
      ]
    },
    {
      "cell_type": "code",
      "source": [
        "from datetime import datetime, timedelta\n",
        "\n",
        "start_date_str = input()\n",
        "end_date_str = input()\n",
        "\n",
        "start_date = datetime.strptime(start_date_str, '%d.%m.%Y')\n",
        "end_date = datetime.strptime(end_date_str, '%d.%m.%Y')\n",
        "\n",
        "date_list = []\n",
        "current_date = start_date\n",
        "\n",
        "while current_date <= end_date:\n",
        "    date_list.append(current_date)\n",
        "    current_date += timedelta(days=1)\n",
        "с = 1\n",
        "index = 0\n",
        "for date in date_list:\n",
        "#  print(date.strftime('%d.%m.%Y'))\n",
        "#  print((date.day + date.month) % 2)\n",
        "#  print(f'День недели = {date.weekday()}')\n",
        "#  print()\n",
        "  if ((date.day + date.month) % 2 != 0): #and (date.weekday() != 0) and (date.weekday() != 3):\n",
        "      index = date_list.index(date)\n",
        "#      print('index=', index)\n",
        "#      print(date.strftime('%d.%m.%Y'))\n",
        "      break\n",
        "\n",
        "for index in range(index, len(date_list), 3):\n",
        "    date = date_list[index]\n",
        "    print(date.strftime('%d.%m.%Y'))\n",
        "    if date.weekday() != 0 and date.weekday() != 3 and index != 0:\n",
        "      print(date.strftime('%d.%m.%Y'))"
      ],
      "metadata": {
        "colab": {
          "base_uri": "https://localhost:8080/"
        },
        "id": "UT27gXwGGRRr",
        "outputId": "0a1016e8-9004-49e5-8238-94b6514347e5"
      },
      "execution_count": null,
      "outputs": [
        {
          "output_type": "stream",
          "name": "stdout",
          "text": [
            "06.11.2021\n",
            "21.11.2021\n",
            "06.11.2021\n",
            "1\n",
            "День недели = 5\n",
            "\n",
            "index= 0\n",
            "06.11.2021\n",
            "09.11.2021\n",
            "09.11.2021\n",
            "12.11.2021\n",
            "12.11.2021\n",
            "15.11.2021\n",
            "18.11.2021\n",
            "21.11.2021\n",
            "21.11.2021\n"
          ]
        }
      ]
    },
    {
      "cell_type": "code",
      "source": [
        "from datetime import datetime\n",
        "\n",
        "#n = int(input())\n",
        "#string = [input() for i in range(n)]\n",
        "string = ['Иван Петров 01.05.1995', 'Петр Сергеев 29.04.1995', 'Сергей Иванов 01.01.1996']\n",
        "# Исходная строка\n",
        "result_dict = {}\n",
        "count=1\n",
        "for s in string:\n",
        "  parts = s.rsplit(' ', 1)  # Разделяем по последнему пробелу\n",
        "  name = parts[0]  # Имя\n",
        "  date_str = parts[1]  # Дата\n",
        "  date_object = datetime.strptime(date_str, '%d.%m.%Y')\n",
        "  if date_object in result_dict:\n",
        "    count+=1\n",
        "  result_dict[date_object] = name\n",
        "\n",
        "\n",
        "\n",
        "earliest_date = min(result_dict.keys())  # Находим минимальную дату\n",
        "name_with_earliest_date = result_dict[earliest_date]  # Получаем имя\n",
        "\n",
        "# Вывод результата\n",
        "if count == 1:\n",
        "  print(f\"{earliest_date.strftime('%d.%m.%Y')} {name_with_earliest_date}\")\n",
        "else:\n",
        "  print(f\"{count}\")"
      ],
      "metadata": {
        "colab": {
          "base_uri": "https://localhost:8080/"
        },
        "id": "01KlBzsoqTGp",
        "outputId": "9914bc71-be73-4198-c659-096ed733d6b4"
      },
      "execution_count": null,
      "outputs": [
        {
          "output_type": "stream",
          "name": "stdout",
          "text": [
            "29.04.1995 Петр Сергеев\n"
          ]
        }
      ]
    },
    {
      "cell_type": "code",
      "source": [
        "from datetime import datetime\n",
        "\n",
        "#n = int(input())\n",
        "#string = [input() for i in range(n)]\n",
        "string = ['Иван Петров 01.05.1995',\n",
        "'Петр Сергеев 29.04.1995',\n",
        "'Сергей Романов 01.01.1996',\n",
        "'Роман Григорьев 01.01.1996',\n",
        "'Григорий Иванов 01.05.1995']\n",
        "#string = ['Иван Петров 04.05.1995',\n",
        "#'Петр Сергеев 04.05.1995',\n",
        "#'Сергей Романов 01.02.1993',\n",
        "#'Роман Григорьев 01.02.1993',\n",
        "#'Григорий Иванов 06.07.1999',\n",
        "#'Тимур Гуев 06.07.1999']\n",
        "result_dict = {}\n",
        "#count=1\n",
        "for s in string:\n",
        "  parts = s.rsplit(' ', 1)  # Разделяем по последнему пробелу\n",
        "  name = parts[0]  # Имя\n",
        "  date_str = parts[1]  # Дата\n",
        "  date_object = datetime.strptime(date_str, '%d.%m.%Y')\n",
        "#  if date_object in result_dict:\n",
        "#    count+=1\n",
        "  result_dict[name] = date_object\n",
        "\n",
        "date_count_dict = {}\n",
        "\n",
        "# Подсчет повторений\n",
        "for date in result_dict.values():\n",
        "    if date in date_count_dict:\n",
        "        date_count_dict[date] += 1  # Увеличиваем счетчик, если дата уже есть\n",
        "    else:\n",
        "        date_count_dict[date] = 1  # Инициализируем счетчик для новой даты\n",
        "\n",
        "max_count = max(date_count_dict.values())\n",
        "res = []\n",
        "# Вывод результата\n",
        "for date, count in date_count_dict.items():\n",
        "    if count == max_count:\n",
        "      res.append(date.strftime('%d.%m.%Y'))\n",
        "print(\"\\n\".join(sorted(res)))\n"
      ],
      "metadata": {
        "colab": {
          "base_uri": "https://localhost:8080/"
        },
        "id": "vNbpdd5WTfM5",
        "outputId": "b29d733c-f566-47ba-8918-2ccd76f0aac2"
      },
      "execution_count": null,
      "outputs": [
        {
          "output_type": "stream",
          "name": "stdout",
          "text": [
            "01.01.1996\n",
            "01.05.1995\n"
          ]
        }
      ]
    },
    {
      "cell_type": "code",
      "source": [
        "from datetime import datetime, timedelta\n",
        "\n",
        "#d =  datetime.strptime(input(), '%d.%m.%Y')\n",
        "#n = int(input())\n",
        "#string = [input() for i in range(n)]\n",
        "d = datetime.strptime('14.11.2021', '%d.%m.%Y')\n",
        "date_range = []\n",
        "for i in range(1,9):\n",
        "    date_range.append(d + timedelta(days=i))\n",
        "string = ['Иван Петров 16.11.1995',\n",
        "'Петр Сергеев 22.11.1997',\n",
        "'Сергей Романов 17.11.1994']\n",
        "\n",
        "result_dict = {}\n",
        "#count=1\n",
        "for s in string:\n",
        "    parts = s.rsplit(' ', 1)  # Разделяем по последнему пробелу\n",
        "    name = parts[0]  # Имя\n",
        "    date_str = parts[1]  # Дата\n",
        "    date_object = datetime.strptime(date_str, '%d.%m.%Y')\n",
        "    result_dict[name] = date_object\n",
        "\n",
        "#formatted_date_range = [date.strftime('%d.%m.%Y') for date in date_range]\n",
        "result_ = {}\n",
        "for name, date in result_dict.items():\n",
        "    if (date.day, date.month) in [(d.day, d.month) for d in date_range]:\n",
        "        result_[name] = date\n",
        "\n",
        "youngest_name = None\n",
        "youngest_date = None\n",
        "\n",
        "# Поиск самой молодой даты\n",
        "for name, date in result_.items():\n",
        "    if youngest_date is None or date > youngest_date:\n",
        "        youngest_date = date\n",
        "        youngest_name = name\n",
        "print(date_range)\n",
        "print(result_)\n",
        "# Вывод результата\n",
        "if youngest_name:\n",
        "    print(f'{youngest_name}')\n",
        "else:\n",
        "    print('Дни рождения не планируются')"
      ],
      "metadata": {
        "colab": {
          "base_uri": "https://localhost:8080/"
        },
        "id": "9fiJd5vd9i4Q",
        "outputId": "b724c17b-786a-4b3a-d193-1f2cac86b292"
      },
      "execution_count": 21,
      "outputs": [
        {
          "output_type": "stream",
          "name": "stdout",
          "text": [
            "[datetime.datetime(2021, 11, 15, 0, 0), datetime.datetime(2021, 11, 16, 0, 0), datetime.datetime(2021, 11, 17, 0, 0), datetime.datetime(2021, 11, 18, 0, 0), datetime.datetime(2021, 11, 19, 0, 0), datetime.datetime(2021, 11, 20, 0, 0), datetime.datetime(2021, 11, 21, 0, 0), datetime.datetime(2021, 11, 22, 0, 0)]\n",
            "{'Иван Петров': datetime.datetime(1995, 11, 16, 0, 0), 'Петр Сергеев': datetime.datetime(1997, 11, 22, 0, 0), 'Сергей Романов': datetime.datetime(1994, 11, 17, 0, 0)}\n",
            "Петр Сергеев\n"
          ]
        }
      ]
    },
    {
      "cell_type": "code",
      "source": [
        "from datetime import datetime\n",
        "\n",
        "#current_time = datetime.strptime(input(), '%d.%m.%Y %H:%M')\n",
        "current_time = datetime.strptime('08.11.2022 12:15', '%d.%m.%Y %H:%M')\n",
        "chek_time = datetime(2022, 11, 8, 12, 0)\n",
        "\n",
        "time_difference = chek_time - current_time\n",
        "\n",
        "days = time_difference.days\n",
        "total_seconds = time_difference.seconds\n",
        "hours = total_seconds // 3600\n",
        "minutes = (total_seconds % 3600) // 60\n",
        "\n",
        "def get_day_word(count):\n",
        "    if count % 10 == 1 and count % 100 != 11:\n",
        "        return \"день\"\n",
        "    elif 2 <= count % 10 <= 4 and not (11 <= count % 100 <= 14):\n",
        "        return \"дня\"\n",
        "    else:\n",
        "        return \"дней\"\n",
        "\n",
        "def get_hour_word(count):\n",
        "    if count % 10 == 1 and count % 100 != 11:\n",
        "        return \"час\"\n",
        "    elif 2 <= count % 10 <= 4 and not (11 <= count % 100 <= 14):\n",
        "        return \"часа\"\n",
        "    else:\n",
        "        return \"часов\"\n",
        "\n",
        "def get_minute_word(count):\n",
        "    if count % 10 == 1 and count % 100 != 11:\n",
        "        return \"минута\"\n",
        "    elif 2 <= count % 10 <= 4 and not (11 <= count % 100 <= 14):\n",
        "        return \"минуты\"\n",
        "    else:\n",
        "        return \"минут\"\n",
        "\n",
        "#   f'До выхода курса осталось: {days} {day_word}, {hours} {h_w} и {minutes} {m_w}'\n",
        "\n",
        "if days > 0:\n",
        "    result_string = f\"{days} {get_day_word(days)}\"\n",
        "    if hours > 0:\n",
        "        result_string += f\" и {hours} {get_hour_word(hours)}\"\n",
        "else:  # Если дней 0\n",
        "    result_string = \"\"\n",
        "    if hours > 0:\n",
        "        result_string += f\"{hours} {get_hour_word(hours)}\"\n",
        "    if minutes > 0:\n",
        "        if result_string:\n",
        "            result_string += \" и \"\n",
        "        result_string += f\"{minutes} {get_minute_word(minutes)}\"\n",
        "\n",
        "# Проверка, чтобы не оставалось пустой строки\n",
        "if not result_string or (days < 0 or hours < 0) :\n",
        "    print('Курс уже начался!')\n",
        "else:\n",
        "    print('До выхода курса осталось: ' + result_string)\n",
        "\n",
        "h_w = get_hour_word(hours)\n",
        "m_w = get_minute_word(minutes)\n",
        "day_word = get_day_word(days)\n",
        "print(f'До выхода курса осталось: {days} {day_word}, {hours} {h_w} и {minutes} {m_w}')"
      ],
      "metadata": {
        "colab": {
          "base_uri": "https://localhost:8080/"
        },
        "id": "XhPt6PW7jwZu",
        "outputId": "d7058e76-441b-411c-9437-9c59ca6d7dde"
      },
      "execution_count": 48,
      "outputs": [
        {
          "output_type": "stream",
          "name": "stdout",
          "text": [
            "Курс уже начался!\n",
            "До выхода курса осталось: -1 дней, 23 часа и 45 минут\n"
          ]
        }
      ]
    },
    {
      "cell_type": "code",
      "source": [
        "\n",
        "print(result_)"
      ],
      "metadata": {
        "colab": {
          "base_uri": "https://localhost:8080/"
        },
        "id": "XeT05Cm0Gucp",
        "outputId": "9fed4192-96e5-46a3-f9fa-54643f59d13a"
      },
      "execution_count": 12,
      "outputs": [
        {
          "output_type": "stream",
          "name": "stdout",
          "text": [
            "{'Иван Петров': datetime.datetime(1995, 11, 16, 0, 0), 'Петр Сергеев': datetime.datetime(1997, 11, 14, 0, 0), 'Сергей Романов': datetime.datetime(1994, 11, 17, 0, 0)}\n"
          ]
        }
      ]
    },
    {
      "cell_type": "code",
      "source": [
        "from datetime import datetime\n",
        "from dateutil.relativedelta import relativedelta\n",
        "\n",
        "# Установка начальной и конечной даты\n",
        "start_date = datetime.strptime('01.01.0001', '%d.%m.%Y')\n",
        "end_date = datetime.strptime('31.12.9999', '%d.%m.%Y')\n",
        "\n",
        "# Список для хранения количества 13 чисел для каждого дня недели\n",
        "res = [0, 0, 0, 0, 0, 0, 0]  # 0 - понедельник, 6 - воскресенье\n",
        "\n",
        "# Цикл по месяцам\n",
        "while start_date < end_date:\n",
        "    try:\n",
        "        # Устанавливаем день на 13\n",
        "        thirteenth_date = start_date.replace(day=13)\n",
        "        # Получаем день недели (0 = понедельник, 6 = воскресенье)\n",
        "        day = thirteenth_date.weekday()\n",
        "        # Увеличиваем счетчик для соответствующего дня недели\n",
        "        res[day] += 1\n",
        "    except ValueError:\n",
        "        # Если 13 число не существует (например, в случае февраля), просто пропускаем\n",
        "        pass\n",
        "\n",
        "    # Переход к следующему месяцу\n",
        "    start_date += relativedelta(months=1)\n",
        "\n",
        "# Вывод результата\n",
        "print(res)"
      ],
      "metadata": {
        "colab": {
          "base_uri": "https://localhost:8080/",
          "height": 356
        },
        "id": "YStxHHyqDRGw",
        "outputId": "bee26d8f-b9a4-4b91-bf82-13cc03d8c66c"
      },
      "execution_count": null,
      "outputs": [
        {
          "output_type": "error",
          "ename": "ValueError",
          "evalue": "year 10000 is out of range",
          "traceback": [
            "\u001b[0;31m---------------------------------------------------------------------------\u001b[0m",
            "\u001b[0;31mValueError\u001b[0m                                Traceback (most recent call last)",
            "\u001b[0;32m<ipython-input-18-d17c5912af60>\u001b[0m in \u001b[0;36m<cell line: 12>\u001b[0;34m()\u001b[0m\n\u001b[1;32m     23\u001b[0m \u001b[0;34m\u001b[0m\u001b[0m\n\u001b[1;32m     24\u001b[0m     \u001b[0;31m# Переход к следующему месяцу\u001b[0m\u001b[0;34m\u001b[0m\u001b[0;34m\u001b[0m\u001b[0m\n\u001b[0;32m---> 25\u001b[0;31m     \u001b[0mstart_date\u001b[0m \u001b[0;34m+=\u001b[0m \u001b[0mrelativedelta\u001b[0m\u001b[0;34m(\u001b[0m\u001b[0mmonths\u001b[0m\u001b[0;34m=\u001b[0m\u001b[0;36m1\u001b[0m\u001b[0;34m)\u001b[0m\u001b[0;34m\u001b[0m\u001b[0;34m\u001b[0m\u001b[0m\n\u001b[0m\u001b[1;32m     26\u001b[0m \u001b[0;34m\u001b[0m\u001b[0m\n\u001b[1;32m     27\u001b[0m \u001b[0;31m# Вывод результата\u001b[0m\u001b[0;34m\u001b[0m\u001b[0;34m\u001b[0m\u001b[0m\n",
            "\u001b[0;32m/usr/local/lib/python3.10/dist-packages/dateutil/relativedelta.py\u001b[0m in \u001b[0;36m__radd__\u001b[0;34m(self, other)\u001b[0m\n\u001b[1;32m    403\u001b[0m \u001b[0;34m\u001b[0m\u001b[0m\n\u001b[1;32m    404\u001b[0m     \u001b[0;32mdef\u001b[0m \u001b[0m__radd__\u001b[0m\u001b[0;34m(\u001b[0m\u001b[0mself\u001b[0m\u001b[0;34m,\u001b[0m \u001b[0mother\u001b[0m\u001b[0;34m)\u001b[0m\u001b[0;34m:\u001b[0m\u001b[0;34m\u001b[0m\u001b[0;34m\u001b[0m\u001b[0m\n\u001b[0;32m--> 405\u001b[0;31m         \u001b[0;32mreturn\u001b[0m \u001b[0mself\u001b[0m\u001b[0;34m.\u001b[0m\u001b[0m__add__\u001b[0m\u001b[0;34m(\u001b[0m\u001b[0mother\u001b[0m\u001b[0;34m)\u001b[0m\u001b[0;34m\u001b[0m\u001b[0;34m\u001b[0m\u001b[0m\n\u001b[0m\u001b[1;32m    406\u001b[0m \u001b[0;34m\u001b[0m\u001b[0m\n\u001b[1;32m    407\u001b[0m     \u001b[0;32mdef\u001b[0m \u001b[0m__rsub__\u001b[0m\u001b[0;34m(\u001b[0m\u001b[0mself\u001b[0m\u001b[0;34m,\u001b[0m \u001b[0mother\u001b[0m\u001b[0;34m)\u001b[0m\u001b[0;34m:\u001b[0m\u001b[0;34m\u001b[0m\u001b[0;34m\u001b[0m\u001b[0m\n",
            "\u001b[0;32m/usr/local/lib/python3.10/dist-packages/dateutil/relativedelta.py\u001b[0m in \u001b[0;36m__add__\u001b[0;34m(self, other)\u001b[0m\n\u001b[1;32m    385\u001b[0m         \u001b[0;32mif\u001b[0m \u001b[0mself\u001b[0m\u001b[0;34m.\u001b[0m\u001b[0mleapdays\u001b[0m \u001b[0;32mand\u001b[0m \u001b[0mmonth\u001b[0m \u001b[0;34m>\u001b[0m \u001b[0;36m2\u001b[0m \u001b[0;32mand\u001b[0m \u001b[0mcalendar\u001b[0m\u001b[0;34m.\u001b[0m\u001b[0misleap\u001b[0m\u001b[0;34m(\u001b[0m\u001b[0myear\u001b[0m\u001b[0;34m)\u001b[0m\u001b[0;34m:\u001b[0m\u001b[0;34m\u001b[0m\u001b[0;34m\u001b[0m\u001b[0m\n\u001b[1;32m    386\u001b[0m             \u001b[0mdays\u001b[0m \u001b[0;34m+=\u001b[0m \u001b[0mself\u001b[0m\u001b[0;34m.\u001b[0m\u001b[0mleapdays\u001b[0m\u001b[0;34m\u001b[0m\u001b[0;34m\u001b[0m\u001b[0m\n\u001b[0;32m--> 387\u001b[0;31m         ret = (other.replace(**repl)\n\u001b[0m\u001b[1;32m    388\u001b[0m                + datetime.timedelta(days=days,\n\u001b[1;32m    389\u001b[0m                                     \u001b[0mhours\u001b[0m\u001b[0;34m=\u001b[0m\u001b[0mself\u001b[0m\u001b[0;34m.\u001b[0m\u001b[0mhours\u001b[0m\u001b[0;34m,\u001b[0m\u001b[0;34m\u001b[0m\u001b[0;34m\u001b[0m\u001b[0m\n",
            "\u001b[0;31mValueError\u001b[0m: year 10000 is out of range"
          ]
        }
      ]
    },
    {
      "cell_type": "code",
      "source": [
        "64 // 3600"
      ],
      "metadata": {
        "colab": {
          "base_uri": "https://localhost:8080/"
        },
        "id": "o5VGrsv9n72j",
        "outputId": "428ee557-1eaa-4a7a-a17a-2eceb27e3433"
      },
      "execution_count": 1,
      "outputs": [
        {
          "output_type": "execute_result",
          "data": {
            "text/plain": [
              "0"
            ]
          },
          "metadata": {},
          "execution_count": 1
        }
      ]
    },
    {
      "cell_type": "code",
      "source": [
        "import calendar\n",
        "import locale\n",
        "locale.setlocale(locale.LC_ALL, 'ru_RU.UTF-8')\n",
        "# Печать календаря за апрель 2025\n",
        "print(calendar.calendar(2022, m=4))"
      ],
      "metadata": {
        "colab": {
          "base_uri": "https://localhost:8080/",
          "height": 332
        },
        "id": "SWMtAmb_dyBv",
        "outputId": "9e58c24f-aa85-43f5-9b07-82c3b54d76b8"
      },
      "execution_count": 1,
      "outputs": [
        {
          "output_type": "error",
          "ename": "Error",
          "evalue": "unsupported locale setting",
          "traceback": [
            "\u001b[0;31m---------------------------------------------------------------------------\u001b[0m",
            "\u001b[0;31mError\u001b[0m                                     Traceback (most recent call last)",
            "\u001b[0;32m<ipython-input-1-0b17ee60b44e>\u001b[0m in \u001b[0;36m<cell line: 3>\u001b[0;34m()\u001b[0m\n\u001b[1;32m      1\u001b[0m \u001b[0;32mimport\u001b[0m \u001b[0mcalendar\u001b[0m\u001b[0;34m\u001b[0m\u001b[0;34m\u001b[0m\u001b[0m\n\u001b[1;32m      2\u001b[0m \u001b[0;32mimport\u001b[0m \u001b[0mlocale\u001b[0m\u001b[0;34m\u001b[0m\u001b[0;34m\u001b[0m\u001b[0m\n\u001b[0;32m----> 3\u001b[0;31m \u001b[0mlocale\u001b[0m\u001b[0;34m.\u001b[0m\u001b[0msetlocale\u001b[0m\u001b[0;34m(\u001b[0m\u001b[0mlocale\u001b[0m\u001b[0;34m.\u001b[0m\u001b[0mLC_ALL\u001b[0m\u001b[0;34m,\u001b[0m \u001b[0;34m'ru_RU.UTF-8'\u001b[0m\u001b[0;34m)\u001b[0m\u001b[0;34m\u001b[0m\u001b[0;34m\u001b[0m\u001b[0m\n\u001b[0m\u001b[1;32m      4\u001b[0m \u001b[0;31m# Печать календаря за апрель 2025\u001b[0m\u001b[0;34m\u001b[0m\u001b[0;34m\u001b[0m\u001b[0m\n\u001b[1;32m      5\u001b[0m \u001b[0mprint\u001b[0m\u001b[0;34m(\u001b[0m\u001b[0mcalendar\u001b[0m\u001b[0;34m.\u001b[0m\u001b[0mcalendar\u001b[0m\u001b[0;34m(\u001b[0m\u001b[0;36m2022\u001b[0m\u001b[0;34m,\u001b[0m \u001b[0mm\u001b[0m\u001b[0;34m=\u001b[0m\u001b[0;36m4\u001b[0m\u001b[0;34m)\u001b[0m\u001b[0;34m)\u001b[0m\u001b[0;34m\u001b[0m\u001b[0;34m\u001b[0m\u001b[0m\n",
            "\u001b[0;32m/usr/lib/python3.10/locale.py\u001b[0m in \u001b[0;36msetlocale\u001b[0;34m(category, locale)\u001b[0m\n\u001b[1;32m    618\u001b[0m         \u001b[0;31m# convert to string\u001b[0m\u001b[0;34m\u001b[0m\u001b[0;34m\u001b[0m\u001b[0m\n\u001b[1;32m    619\u001b[0m         \u001b[0mlocale\u001b[0m \u001b[0;34m=\u001b[0m \u001b[0mnormalize\u001b[0m\u001b[0;34m(\u001b[0m\u001b[0m_build_localename\u001b[0m\u001b[0;34m(\u001b[0m\u001b[0mlocale\u001b[0m\u001b[0;34m)\u001b[0m\u001b[0;34m)\u001b[0m\u001b[0;34m\u001b[0m\u001b[0;34m\u001b[0m\u001b[0m\n\u001b[0;32m--> 620\u001b[0;31m     \u001b[0;32mreturn\u001b[0m \u001b[0m_setlocale\u001b[0m\u001b[0;34m(\u001b[0m\u001b[0mcategory\u001b[0m\u001b[0;34m,\u001b[0m \u001b[0mlocale\u001b[0m\u001b[0;34m)\u001b[0m\u001b[0;34m\u001b[0m\u001b[0;34m\u001b[0m\u001b[0m\n\u001b[0m\u001b[1;32m    621\u001b[0m \u001b[0;34m\u001b[0m\u001b[0m\n\u001b[1;32m    622\u001b[0m \u001b[0;32mdef\u001b[0m \u001b[0mresetlocale\u001b[0m\u001b[0;34m(\u001b[0m\u001b[0mcategory\u001b[0m\u001b[0;34m=\u001b[0m\u001b[0mLC_ALL\u001b[0m\u001b[0;34m)\u001b[0m\u001b[0;34m:\u001b[0m\u001b[0;34m\u001b[0m\u001b[0;34m\u001b[0m\u001b[0m\n",
            "\u001b[0;31mError\u001b[0m: unsupported locale setting"
          ]
        }
      ]
    },
    {
      "cell_type": "code",
      "source": [
        "import calendar\n",
        "\n",
        "#input_string = input()\n",
        "input_string = '2021 Dec'\n",
        "year, month_name = input_string.split()\n",
        "\n",
        "year = int(year)\n",
        "#month = list(calendar.month_name).index(month_name)\n",
        "month = list(calendar.month_abbr).index(month_name)\n",
        "\n",
        "print(calendar.month(year, month))"
      ],
      "metadata": {
        "colab": {
          "base_uri": "https://localhost:8080/"
        },
        "id": "2zgnWuPFhviw",
        "outputId": "dec9a511-305c-429f-f07c-ef709022388a"
      },
      "execution_count": 9,
      "outputs": [
        {
          "output_type": "stream",
          "name": "stdout",
          "text": [
            "   December 2021\n",
            "Mo Tu We Th Fr Sa Su\n",
            "       1  2  3  4  5\n",
            " 6  7  8  9 10 11 12\n",
            "13 14 15 16 17 18 19\n",
            "20 21 22 23 24 25 26\n",
            "27 28 29 30 31\n",
            "\n"
          ]
        }
      ]
    },
    {
      "cell_type": "code",
      "source": [
        "print(month_name)"
      ],
      "metadata": {
        "colab": {
          "base_uri": "https://localhost:8080/"
        },
        "id": "G6YKnJpSh9ju",
        "outputId": "a0006ad3-7b38-4b8a-9696-bd4fb16984b6"
      },
      "execution_count": 7,
      "outputs": [
        {
          "output_type": "stream",
          "name": "stdout",
          "text": [
            "Dec\n"
          ]
        }
      ]
    }
  ]
}